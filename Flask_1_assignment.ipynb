{
 "cells": [
  {
   "cell_type": "code",
   "execution_count": 1,
   "id": "56951600-0967-4011-a805-97a11717dab5",
   "metadata": {},
   "outputs": [
    {
     "data": {
      "text/plain": [
       "'Q1. What is Flask Framework? What are the advantages of Flask Framework?'"
      ]
     },
     "execution_count": 1,
     "metadata": {},
     "output_type": "execute_result"
    }
   ],
   "source": [
    "\"\"\"Q1. What is Flask Framework? What are the advantages of Flask Framework?\"\"\""
   ]
  },
  {
   "cell_type": "code",
   "execution_count": 2,
   "id": "f2eefc1f-343a-4bd0-b192-44c971b36de4",
   "metadata": {},
   "outputs": [],
   "source": [
    "Ans_1=\"Flask is a web framework that allows developers to build lightweight web applications quickly and easily with Flask Libraries.Advantages of Flask Framework:Simplicity: Flask is designed to be simple and easy to understand.Flexibility: Flask provides the basic tools and components needed for web development, but it doesn't impose a specific project structure or coding style.\""
   ]
  },
  {
   "cell_type": "code",
   "execution_count": 3,
   "id": "615602bd-8dc6-4ebf-babd-2767f79725a4",
   "metadata": {},
   "outputs": [
    {
     "data": {
      "text/plain": [
       "\"Flask is a web framework that allows developers to build lightweight web applications quickly and easily with Flask Libraries.Advantages of Flask Framework:Simplicity: Flask is designed to be simple and easy to understand.Flexibility: Flask provides the basic tools and components needed for web development, but it doesn't impose a specific project structure or coding style.\""
      ]
     },
     "execution_count": 3,
     "metadata": {},
     "output_type": "execute_result"
    }
   ],
   "source": [
    "Ans_1"
   ]
  },
  {
   "cell_type": "code",
   "execution_count": 4,
   "id": "d6f9edc5-ea3e-4dbd-98a5-9d152889a86a",
   "metadata": {},
   "outputs": [
    {
     "data": {
      "text/plain": [
       "'Q2. Create a simple Flask application to display ‘Hello World!!’. Attach the screenshot of the output in\\nJupyter Notebook.'"
      ]
     },
     "execution_count": 4,
     "metadata": {},
     "output_type": "execute_result"
    }
   ],
   "source": [
    "\"\"\"Q2. Create a simple Flask application to display ‘Hello World!!’. Attach the screenshot of the output in\n",
    "Jupyter Notebook.\"\"\""
   ]
  },
  {
   "cell_type": "code",
   "execution_count": null,
   "id": "ea787c76-3b2b-4f0a-b4c0-ec64f86f5bdf",
   "metadata": {},
   "outputs": [],
   "source": [
    "from flask import Flask     \n",
    "\n",
    "app = Flask(__name__)\n",
    "\n",
    "@app.route(\"/\")\n",
    "def hello_world():\n",
    "    return \"<h1>Hello, World!</h1>\"\n",
    "if __name__==\"__main__\":\n",
    "    app.run(host=\"0.0.0.0\")"
   ]
  },
  {
   "cell_type": "code",
   "execution_count": 5,
   "id": "0a302e7a-1c73-4c92-9696-56518c071e1f",
   "metadata": {},
   "outputs": [
    {
     "data": {
      "text/plain": [
       "'Q3. What is App routing in Flask? Why do we use app routes?'"
      ]
     },
     "execution_count": 5,
     "metadata": {},
     "output_type": "execute_result"
    }
   ],
   "source": [
    "\"\"\"Q3. What is App routing in Flask? Why do we use app routes?\"\"\""
   ]
  },
  {
   "cell_type": "code",
   "execution_count": 6,
   "id": "84853c5f-7872-4c2d-882a-555cde0b5d0f",
   "metadata": {},
   "outputs": [],
   "source": [
    "Ans_3=\"In Flask, app routing refers to the process of mapping URL paths to specific Python functions or views within your web application. It defines how incoming HTTP requests are handled and which function should be executed to generate a response for a particular URL. App routing is a fundamental concept in Flask, and it's achieved using decorators called @app.route.URL Mapping: App routes allow you to define a clear mapping between the URLs that users request and the functions or views that should handle those requests. This makes it easy to organize and structure your application's routes.Code Organization: By using app routes, you can keep your application's code organized and modular. Each route corresponds to a specific functionality or page within your application, making it easier to manage and maintain your codebase.\""
   ]
  },
  {
   "cell_type": "code",
   "execution_count": 7,
   "id": "e31930fd-c837-4d8a-9465-68bc2f41b7ab",
   "metadata": {},
   "outputs": [
    {
     "data": {
      "text/plain": [
       "\"In Flask, app routing refers to the process of mapping URL paths to specific Python functions or views within your web application. It defines how incoming HTTP requests are handled and which function should be executed to generate a response for a particular URL. App routing is a fundamental concept in Flask, and it's achieved using decorators called @app.route.URL Mapping: App routes allow you to define a clear mapping between the URLs that users request and the functions or views that should handle those requests. This makes it easy to organize and structure your application's routes.Code Organization: By using app routes, you can keep your application's code organized and modular. Each route corresponds to a specific functionality or page within your application, making it easier to manage and maintain your codebase.\""
      ]
     },
     "execution_count": 7,
     "metadata": {},
     "output_type": "execute_result"
    }
   ],
   "source": [
    "Ans_3"
   ]
  },
  {
   "cell_type": "code",
   "execution_count": 8,
   "id": "50600e4d-cbe5-4e16-a6c6-8dbdda2058e5",
   "metadata": {},
   "outputs": [
    {
     "data": {
      "text/plain": [
       "'Q4. Create a “/welcome” route to display the welcome message “Welcome to ABC Corporation” and a “/”\\nroute to show the following details:\\nCompany Name: ABC Corporation\\nLocation: India\\nContact Detail: 999-999-9999'"
      ]
     },
     "execution_count": 8,
     "metadata": {},
     "output_type": "execute_result"
    }
   ],
   "source": [
    "\"\"\"Q4. Create a “/welcome” route to display the welcome message “Welcome to ABC Corporation” and a “/”\n",
    "route to show the following details:\n",
    "Company Name: ABC Corporation\n",
    "Location: India\n",
    "Contact Detail: 999-999-9999\"\"\""
   ]
  },
  {
   "cell_type": "code",
   "execution_count": null,
   "id": "5d9675cd-9f54-4c50-8677-09537a7d6529",
   "metadata": {},
   "outputs": [],
   "source": [
    "from flask import Flask     \n",
    "from flask import request\n",
    "\n",
    "app = Flask(__name__)\n",
    "\n",
    "@app.route(\"/welcome\")\n",
    "def welcome():\n",
    "    return \"<h1>“Welcome to ABC Corporation”</h1>\"\n",
    "\n",
    "\n",
    "\n",
    "@app.route(\"/\")\n",
    "def test():\n",
    "        l=[ \"Company Name: ABC Corporation\"\n",
    "         \"Location: India\"\n",
    "         \"Contact Detail: 999-999-9999\"]\n",
    "        return \" this is my company details {}\".format(l) "
   ]
  },
  {
   "cell_type": "code",
   "execution_count": null,
   "id": "f21af525",
   "metadata": {},
   "outputs": [],
   "source": [
    "https://salmon-engineer-bovgl.pwskills.app:5000/welcome # it will the welcome message\n",
    "\n",
    "https://salmon-engineer-bovgl.pwskills.app:5000         # it will company details\n",
    "\n",
    "\n"
   ]
  },
  {
   "cell_type": "code",
   "execution_count": 13,
   "id": "bad644d8-f696-4160-9c80-f55cd79b7128",
   "metadata": {},
   "outputs": [
    {
     "data": {
      "text/plain": [
       "'Q5. What function is used in Flask for URL Building? Write a Python code to demonstrate the working of the\\nurl_for() function.'"
      ]
     },
     "execution_count": 13,
     "metadata": {},
     "output_type": "execute_result"
    }
   ],
   "source": [
    "\"\"\"Q5. What function is used in Flask for URL Building? Write a Python code to demonstrate the working of the\n",
    "url_for() function.\"\"\""
   ]
  },
  {
   "cell_type": "code",
   "execution_count": null,
   "id": "1e5aee28-8ab8-42c6-932f-8e480ba7a73c",
   "metadata": {},
   "outputs": [],
   "source": []
  }
 ],
 "metadata": {
  "kernelspec": {
   "display_name": "Python 3 (ipykernel)",
   "language": "python",
   "name": "python3"
  },
  "language_info": {
   "codemirror_mode": {
    "name": "ipython",
    "version": 3
   },
   "file_extension": ".py",
   "mimetype": "text/x-python",
   "name": "python",
   "nbconvert_exporter": "python",
   "pygments_lexer": "ipython3",
   "version": "3.10.8"
  }
 },
 "nbformat": 4,
 "nbformat_minor": 5
}
